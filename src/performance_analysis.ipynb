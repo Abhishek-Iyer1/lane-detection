{
 "cells": [
  {
   "cell_type": "markdown",
   "metadata": {
    "tags": [
     "markdown"
    ]
   },
   "source": [
    "# Performance Analysis Notebook\n",
    "\n",
    "This notebook contains the below listed important sections\n",
    "- Loading Data"
   ]
  },
  {
   "cell_type": "code",
   "execution_count": 9,
   "metadata": {
    "tags": [
     "import"
    ]
   },
   "outputs": [],
   "source": [
    "# Import packages from those installed in conda environment\n",
    "import numpy as np\n",
    "import pickle\n",
    "import matplotlib.pyplot as plt"
   ]
  },
  {
   "cell_type": "markdown",
   "metadata": {
    "tags": [
     "markdown"
    ]
   },
   "source": [
    "## Loading Data"
   ]
  },
  {
   "cell_type": "code",
   "execution_count": 105,
   "metadata": {},
   "outputs": [],
   "source": [
    "# Load data stored in pickle files as numpy arrays\n",
    "dataset_images = np.array(pickle.load(open(\"../data/full_CNN_train.p\", 'rb')))\n",
    "dataset_labels = np.array(pickle.load(open(\"../data/full_CNN_labels.p\", 'rb')))"
   ]
  },
  {
   "cell_type": "code",
   "execution_count": null,
   "metadata": {},
   "outputs": [],
   "source": [
    "# Print dimensions of the dataset and image types\n",
    "print(f\"No. of dataset images: {len(dataset_images)} of shape: {dataset_images.shape[1:]}\")\n",
    "print(f\"No. of dataset labels: {len(dataset_labels)} of shape: {dataset_labels.shape[1:]}\")\n",
    "\n",
    "# Change image_index number to view different images and their respective labels. \n",
    "# NOTE: Make sure index is less than the length of the dataset and more than 0\n",
    "image_index = 2000\n",
    "\n",
    "# Load original image and label based on image_index\n",
    "image_weighted = dataset_images[image_index] / 255\n",
    "label = dataset_labels[image_index] / 255\n",
    "\n",
    "# Pre-multiplication\n",
    "a_channel_label = np.ones(label.shape, dtype=np.float64)/2.0\n",
    "label *= a_channel_label\n",
    "label = np.reshape(label, (80, 160))\n",
    "\n",
    "# Overlay the label on top of the original image\n",
    "image_weighted[:,:,1] += (label)\n",
    "\n",
    "# Create a Figure object with a specific size\n",
    "fig = plt.figure(figsize=[12,7])\n",
    "\n",
    "# Display original image\n",
    "fig.add_subplot(1, 3, 1)\n",
    "plt.imshow(dataset_images[image_index])\n",
    "plt.axis(\"off\")\n",
    "plt.title(f\"Dataset Image No. {image_index}\")\n",
    "\n",
    "# Display corresponding label / ground truth\n",
    "fig.add_subplot(1, 3, 2)\n",
    "plt.imshow(dataset_labels[image_index])\n",
    "plt.axis(\"off\")\n",
    "plt.title(f\"Dataset Label No. {image_index}\")\n",
    "\n",
    "# Display weighted image\n",
    "fig.add_subplot(1, 3, 3)\n",
    "plt.imshow(image_weighted)\n",
    "plt.axis(\"off\")\n",
    "plt.title(f\"Weighted Image\")\n",
    "\n",
    "plt.show()"
   ]
  },
  {
   "cell_type": "code",
   "execution_count": null,
   "metadata": {},
   "outputs": [],
   "source": []
  }
 ],
 "metadata": {
  "kernelspec": {
   "display_name": "lane_segmentation",
   "language": "python",
   "name": "python3"
  },
  "language_info": {
   "codemirror_mode": {
    "name": "ipython",
    "version": 3
   },
   "file_extension": ".py",
   "mimetype": "text/x-python",
   "name": "python",
   "nbconvert_exporter": "python",
   "pygments_lexer": "ipython3",
   "version": "3.9.17"
  },
  "orig_nbformat": 4
 },
 "nbformat": 4,
 "nbformat_minor": 2
}
